{
 "cells": [
  {
   "cell_type": "code",
   "execution_count": null,
   "id": "2537a41b-946a-4fa9-acda-3a1cfbf99098",
   "metadata": {},
   "outputs": [],
   "source": [
    "import numpy as np\n",
    "import pandas as pd\n",
    "\n",
    "from src.main import generate_blackout_events, compute_blackout_kpis\n",
    "\n",
    "average_frequency = 45\n",
    "std_frequency = 0.1\n",
    "average_duration = 3\n",
    "std_duration = 0.1\n",
    "\n",
    "evaluated_days = 3\n",
    "date_time_index = pd.date_range(start=\"2024-01-01\",freq=\"H\", periods=evaluated_days * 24)\n",
    "\n",
    "\n",
    "grid_availability, blackout_events_duration, overlapping_blackouts, blackout_count = generate_blackout_events(average_frequency, average_duration, date_time_index)\n",
    "print(overlapping_blackouts, blackout_count)\n",
    "\n",
    "compute_blackout_kpis(grid_availability, blackout_events_duration, overlapping_blackouts, blackout_count)\n"
   ]
  }
 ],
 "metadata": {
  "kernelspec": {
   "display_name": "Python 3 (ipykernel)",
   "language": "python",
   "name": "python3"
  },
  "language_info": {
   "codemirror_mode": {
    "name": "ipython",
    "version": 3
   },
   "file_extension": ".py",
   "mimetype": "text/x-python",
   "name": "python",
   "nbconvert_exporter": "python",
   "pygments_lexer": "ipython3",
   "version": "3.8.10"
  }
 },
 "nbformat": 4,
 "nbformat_minor": 5
}
